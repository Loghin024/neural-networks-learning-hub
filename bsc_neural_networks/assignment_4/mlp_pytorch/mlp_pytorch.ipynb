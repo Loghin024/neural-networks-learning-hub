{
 "cells": [
  {
   "cell_type": "code",
   "execution_count": 119,
   "id": "initial_id",
   "metadata": {
    "collapsed": true,
    "ExecuteTime": {
     "end_time": "2024-12-01T12:13:38.988043Z",
     "start_time": "2024-12-01T12:13:38.984976Z"
    }
   },
   "outputs": [],
   "source": [
    "import torch\n",
    "import torchvision"
   ]
  },
  {
   "cell_type": "code",
   "outputs": [],
   "source": [
    "device = torch.device(\"cuda\")"
   ],
   "metadata": {
    "collapsed": false,
    "ExecuteTime": {
     "end_time": "2024-12-01T12:13:40.579209Z",
     "start_time": "2024-12-01T12:13:40.574739Z"
    }
   },
   "id": "d67663b162032064",
   "execution_count": 120
  },
  {
   "cell_type": "code",
   "outputs": [],
   "source": [
    "training_data = torchvision.datasets.MNIST('data', train=True, download=True)\n",
    "test_data = torchvision.datasets.MNIST('data', train=False, download=True)"
   ],
   "metadata": {
    "collapsed": false,
    "ExecuteTime": {
     "end_time": "2024-12-01T12:13:43.736694Z",
     "start_time": "2024-12-01T12:13:43.689383Z"
    }
   },
   "id": "ca1218455af6647b",
   "execution_count": 121
  },
  {
   "cell_type": "code",
   "outputs": [],
   "source": [
    "from torchvision import transforms\n",
    "\n",
    "train_transform = transforms.Compose([\n",
    "    # random +-10 degrees\n",
    "    transforms.RandomRotation(10), \n",
    "    # random translation + scaling + rotation\n",
    "    transforms.RandomAffine(20, translate=(0.15, 0.15), scale=(0.85, 1.15)),\n",
    "    #convert to tensor\n",
    "    transforms.ToTensor(),\n",
    "])\n",
    "\n",
    "test_transform = transforms.Compose([\n",
    "    transforms.ToTensor(),\n",
    "])\n"
   ],
   "metadata": {
    "collapsed": false
   },
   "id": "727d1f1219da061d",
   "execution_count": null
  },
  {
   "cell_type": "code",
   "outputs": [],
   "source": [
    "from torch.utils.data import Dataset\n",
    "from torchvision.datasets import MNIST\n",
    "import torch.nn.functional as F\n",
    "\n",
    "class MNISTDataset(Dataset):\n",
    "    def __init__(self, partition=\"train\", transform=None):\n",
    "        \"\"\"\n",
    "        A custom dataset for the MNIST dataset.\n",
    "        \"\"\"\n",
    "        self.partition = partition\n",
    "        self.transform = transform\n",
    "        \n",
    "        self.mnist_data = MNIST(\n",
    "            root=\"./data\", \n",
    "            train=(partition == \"train\"), \n",
    "            download=True\n",
    "        )\n",
    "\n",
    "    def __len__(self):\n",
    "        return len(self.mnist_data)\n",
    "\n",
    "    def __getitem__(self, idx):\n",
    "        image, label = self.mnist_data[idx]\n",
    "\n",
    "        if self.transform:\n",
    "            image = self.transform(image)\n",
    "\n",
    "        # reshape the image to a flat vector of size 784 (1x28x28 -> 784)\n",
    "        image = image.view(-1)\n",
    "\n",
    "        # one hot encode labels\n",
    "        label = F.one_hot(torch.tensor(label), num_classes=10).float()\n",
    "\n",
    "        return {\"idx\": idx, \"img\": image, \"label\": label}\n",
    "\n",
    "# create the datasets\n",
    "train_dataset = MNISTDataset(partition=\"train\", transform=train_transform)\n",
    "test_dataset = MNISTDataset(partition=\"test\", transform=test_transform)\n"
   ],
   "metadata": {
    "collapsed": false
   },
   "id": "eb2da340c5f81df6",
   "execution_count": null
  },
  {
   "cell_type": "code",
   "outputs": [
    {
     "name": "stdout",
     "output_type": "stream",
     "text": [
      "Net(\n",
      "  (layers): ModuleList(\n",
      "    (0): Linear(in_features=784, out_features=1024, bias=True)\n",
      "    (1): BatchNorm1d(1024, eps=1e-05, momentum=0.1, affine=True, track_running_stats=True)\n",
      "    (2): ReLU()\n",
      "    (3): Linear(in_features=1024, out_features=1024, bias=True)\n",
      "    (4): BatchNorm1d(1024, eps=1e-05, momentum=0.1, affine=True, track_running_stats=True)\n",
      "    (5): ReLU()\n",
      "    (6): Linear(in_features=1024, out_features=1024, bias=True)\n",
      "    (7): BatchNorm1d(1024, eps=1e-05, momentum=0.1, affine=True, track_running_stats=True)\n",
      "    (8): ReLU()\n",
      "  )\n",
      "  (classifier): Linear(in_features=1024, out_features=10, bias=True)\n",
      "  (criterion): CrossEntropyLoss()\n",
      ")\n",
      "Trainable Parameters:  2919434\n"
     ]
    }
   ],
   "source": [
    "import torch\n",
    "from torch.utils.data import DataLoader\n",
    "from torch import nn\n",
    "\n",
    "# DataLoader Settings\n",
    "batch_size = 100\n",
    "train_dataloader = DataLoader(\n",
    "    dataset=train_dataset, \n",
    "    batch_size=batch_size, \n",
    "    shuffle=True, \n",
    "    num_workers=0\n",
    ")\n",
    "\n",
    "test_dataloader = DataLoader(\n",
    "    dataset=test_dataset, \n",
    "    batch_size=batch_size, \n",
    "    shuffle=False, \n",
    "    num_workers=0\n",
    ")\n",
    "\n",
    "class Net(nn.Module):\n",
    "    def __init__(self, sizes=None, criterion=None):\n",
    "        super(Net, self).__init__()\n",
    "\n",
    "        self.layers = nn.ModuleList()\n",
    "        if sizes is None:\n",
    "            sizes = [[784, 1024], [1024, 1024], [1024, 1024], [1024, 10]]\n",
    "\n",
    "        # add intermediate layers\n",
    "        for in_dim, out_dim in sizes[:-1]:\n",
    "            self.layers.append(nn.Linear(in_dim, out_dim))\n",
    "            self.layers.append(nn.BatchNorm1d(out_dim))\n",
    "            self.layers.append(nn.ReLU())\n",
    "\n",
    "        # ddd the classifier (final layer)\n",
    "        in_dim, out_dim = sizes[-1]\n",
    "        self.classifier = nn.Linear(in_dim, out_dim)\n",
    "\n",
    "        self.criterion = criterion\n",
    "\n",
    "    def forward(self, x, y=None):\n",
    "        for layer in self.layers:\n",
    "            x = layer(x)\n",
    "        x = self.classifier(x)\n",
    "\n",
    "        if y is not None:\n",
    "            loss = self.criterion(x, y)\n",
    "            return loss, x\n",
    "        return x\n",
    "\n",
    "# Training Settings\n",
    "criterion = nn.CrossEntropyLoss()\n",
    "\n",
    "# Instantiate the Network\n",
    "num_classes = 10\n",
    "net = Net(\n",
    "    sizes=[[784, 1024], [1024, 1024], [1024, 1024], [1024, num_classes]],\n",
    "    criterion=criterion\n",
    ")\n",
    "print(net)\n",
    "\n",
    "def count_parameters(model):\n",
    "    return sum(p.numel() for p in model.parameters() if p.requires_grad)\n",
    "\n",
    "print(\"Trainable Parameters: \", count_parameters(net))\n"
   ],
   "metadata": {
    "collapsed": false,
    "ExecuteTime": {
     "end_time": "2024-12-01T21:55:54.757032Z",
     "start_time": "2024-12-01T21:55:54.737438Z"
    }
   },
   "id": "3931443c0ce510ca",
   "execution_count": 145
  },
  {
   "cell_type": "code",
   "outputs": [
    {
     "name": "stdout",
     "output_type": "stream",
     "text": [
      "\n",
      "---- Start Training ----\n"
     ]
    },
    {
     "name": "stderr",
     "output_type": "stream",
     "text": [
      "Epoch 1/1: 100%|██████████| 600/600 [00:13<00:00, 45.74batch/s]\n",
      "Test 1/1: 100%|██████████| 100/100 [00:00<00:00, 120.61batch/s]"
     ]
    },
    {
     "name": "stdout",
     "output_type": "stream",
     "text": [
      "[Epoch 1] Train Loss: 0.000639 - Test Loss: 0.000202 Train Accuracy: 98.01% - Test Accuracy: 99.36%\n",
      "\n",
      "BEST TEST ACCURACY: 99.36% at epoch 1\n"
     ]
    },
    {
     "name": "stderr",
     "output_type": "stream",
     "text": [
      "\n"
     ]
    }
   ],
   "source": [
    "import torch.optim as optim\n",
    "from tqdm import tqdm\n",
    "\n",
    "# Optimizer and Scheduler\n",
    "optimizer = optim.SGD(\n",
    "    net.parameters(), lr=0.1, weight_decay=1e-6, momentum=0.9\n",
    ")\n",
    "scheduler = torch.optim.lr_scheduler.MultiStepLR(\n",
    "    optimizer, milestones=[25, 50, 75], gamma=0.1\n",
    ")\n",
    "\n",
    "# Move the model to the target device\n",
    "net = net.to(device)\n",
    "\n",
    "# Training settings\n",
    "epochs = 1\n",
    "best_accuracy = -1\n",
    "best_epoch = 0\n",
    "\n",
    "print(\"\\n---- Start Training ----\")\n",
    "for epoch in range(epochs):\n",
    "    # Training Phase\n",
    "    net.train()\n",
    "    train_loss, train_correct = 0, 0\n",
    "\n",
    "    with tqdm(train_dataloader, desc=f\"Epoch {epoch + 1}/{epochs}\", unit=\"batch\") as tepoch:\n",
    "        for batch in tepoch:\n",
    "            # Load batch data\n",
    "            images = batch[\"img\"].to(device)\n",
    "            labels = batch[\"label\"].to(device)\n",
    "\n",
    "            # Reset gradients\n",
    "            optimizer.zero_grad()\n",
    "\n",
    "            # Forward pass\n",
    "            outputs = net(images)\n",
    "            loss = criterion(outputs, labels)\n",
    "\n",
    "            # Backward pass and optimization\n",
    "            loss.backward()\n",
    "            optimizer.step()\n",
    "\n",
    "            # Update training metrics\n",
    "            labels = torch.argmax(labels, dim=1)\n",
    "            predictions = torch.argmax(outputs, dim=1)\n",
    "            train_correct += predictions.eq(labels).sum().item()\n",
    "            train_loss += loss.item()\n",
    "\n",
    "    # Normalize training loss\n",
    "    train_loss /= len(train_dataloader.dataset)\n",
    "\n",
    "    # Testing Phase\n",
    "    net.eval()\n",
    "    test_loss, test_correct = 0, 0\n",
    "\n",
    "    with torch.no_grad():\n",
    "        with tqdm(test_dataloader, desc=f\"Test {epoch + 1}/{epochs}\", unit=\"batch\") as tepoch:\n",
    "            for batch in tepoch:\n",
    "                # Load batch data\n",
    "                images = batch[\"img\"].to(device)\n",
    "                labels = batch[\"label\"].to(device)\n",
    "\n",
    "                # Forward pass\n",
    "                outputs = net(images)\n",
    "                test_loss += criterion(outputs, labels).item()\n",
    "\n",
    "                # Update testing metrics\n",
    "                labels = torch.argmax(labels, dim=1)\n",
    "                predictions = torch.argmax(outputs, dim=1)\n",
    "                test_correct += predictions.eq(labels).sum().item()\n",
    "\n",
    "    # Normalize testing loss and calculate accuracy\n",
    "    test_loss /= len(test_dataloader.dataset)\n",
    "    test_accuracy = 100.0 * test_correct / len(test_dataloader.dataset)\n",
    "    train_accuracy = 100.0 * train_correct / len(train_dataloader.dataset)\n",
    "\n",
    "    print(f\"[Epoch {epoch + 1}] \"\n",
    "          f\"Train Loss: {train_loss:.6f} - Test Loss: {test_loss:.6f} \"\n",
    "          f\"Train Accuracy: {train_accuracy:.2f}% - Test Accuracy: {test_accuracy:.2f}%\")\n",
    "\n",
    "    # Save the best model\n",
    "    if test_accuracy > best_accuracy:\n",
    "        best_accuracy = test_accuracy\n",
    "        best_epoch = epoch + 1\n",
    "        torch.save(net.state_dict(), \"best_model.pt\")\n",
    "\n",
    "    # Step the learning rate scheduler\n",
    "    scheduler.step()\n",
    "\n",
    "# Summary of best accuracy\n",
    "print(f\"\\nBEST TEST ACCURACY: {best_accuracy:.2f}% at epoch {best_epoch}\")\n"
   ],
   "metadata": {
    "collapsed": false,
    "ExecuteTime": {
     "end_time": "2024-12-01T22:03:13.287603Z",
     "start_time": "2024-12-01T22:02:59.205156Z"
    }
   },
   "id": "c2ee05989fa6c3a6",
   "execution_count": 148
  },
  {
   "cell_type": "code",
   "outputs": [
    {
     "name": "stderr",
     "output_type": "stream",
     "text": [
      "C:\\Users\\cloghin\\AppData\\Local\\Temp\\ipykernel_18760\\1972382846.py:2: FutureWarning: You are using `torch.load` with `weights_only=False` (the current default value), which uses the default pickle module implicitly. It is possible to construct malicious pickle data which will execute arbitrary code during unpickling (See https://github.com/pytorch/pytorch/blob/main/SECURITY.md#untrusted-models for more details). In a future release, the default value for `weights_only` will be flipped to `True`. This limits the functions that could be executed during unpickling. Arbitrary objects will no longer be allowed to be loaded via this mode unless they are explicitly allowlisted by the user via `torch.serialization.add_safe_globals`. We recommend you start setting `weights_only=True` for any use case where you don't have full control of the loaded file. Please open an issue on GitHub for any issues related to this experimental feature.\n",
      "  net.load_state_dict(torch.load(\"./models/best_model.pt\"))\n"
     ]
    },
    {
     "name": "stdout",
     "output_type": "stream",
     "text": [
      "\n",
      "---- Evaluating the Best Model ----\n"
     ]
    },
    {
     "name": "stderr",
     "output_type": "stream",
     "text": [
      "Testing Best Model: 100%|██████████| 100/100 [00:00<00:00, 107.76batch/s]"
     ]
    },
    {
     "name": "stdout",
     "output_type": "stream",
     "text": [
      "Final Best Accuracy: 99.52%\n"
     ]
    },
    {
     "name": "stderr",
     "output_type": "stream",
     "text": [
      "\n"
     ]
    }
   ],
   "source": [
    "# Load Best Model Weights\n",
    "net.load_state_dict(torch.load(\"./models/best_model.pt\"))\n",
    "net.eval()\n",
    "\n",
    "# Test the Model\n",
    "test_loss, test_correct = 0, 0\n",
    "\n",
    "print(\"\\n---- Evaluating the Best Model ----\")\n",
    "with torch.no_grad():\n",
    "    with tqdm(test_dataloader, desc=\"Testing Best Model\", unit=\"batch\") as tepoch:\n",
    "        for batch in tepoch:\n",
    "            # Load batch data\n",
    "            images = batch[\"img\"].to(device)\n",
    "            labels = batch[\"label\"].to(device)\n",
    "\n",
    "            # Forward pass\n",
    "            outputs = net(images)\n",
    "            test_loss += criterion(outputs, labels).item()\n",
    "\n",
    "            # Convert one-hot encoded labels to indices\n",
    "            labels = torch.argmax(labels, dim=1)\n",
    "            predictions = torch.argmax(outputs, dim=1)\n",
    "\n",
    "            # Update correct prediction count\n",
    "            test_correct += predictions.eq(labels).sum().item()\n",
    "\n",
    "# Normalize the loss and calculate accuracy\n",
    "test_loss /= len(test_dataloader.dataset)\n",
    "test_accuracy = 100.0 * test_correct / len(test_dataloader.dataset)\n",
    "\n",
    "print(f\"Final Best Accuracy: {test_accuracy:.2f}%\")\n"
   ],
   "metadata": {
    "collapsed": false,
    "ExecuteTime": {
     "end_time": "2024-12-01T22:03:55.523814Z",
     "start_time": "2024-12-01T22:03:54.567072Z"
    }
   },
   "id": "ad6f6bb985454cba",
   "execution_count": 150
  },
  {
   "cell_type": "code",
   "outputs": [],
   "source": [],
   "metadata": {
    "collapsed": false
   },
   "id": "228bee00a1a2c226"
  }
 ],
 "metadata": {
  "kernelspec": {
   "display_name": "Python 3",
   "language": "python",
   "name": "python3"
  },
  "language_info": {
   "codemirror_mode": {
    "name": "ipython",
    "version": 2
   },
   "file_extension": ".py",
   "mimetype": "text/x-python",
   "name": "python",
   "nbconvert_exporter": "python",
   "pygments_lexer": "ipython2",
   "version": "2.7.6"
  }
 },
 "nbformat": 4,
 "nbformat_minor": 5
}
